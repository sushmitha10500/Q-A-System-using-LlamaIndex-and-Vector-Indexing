{
 "cells": [
  {
   "cell_type": "markdown",
   "id": "f1bdc7d1-ab59-4750-923c-2fe615719171",
   "metadata": {},
   "source": [
    "#### Setting up OPEN AI API KEY in the environment"
   ]
  },
  {
   "cell_type": "code",
   "execution_count": 1,
   "id": "0bfde67c-11a3-432c-9276-f403b084250a",
   "metadata": {},
   "outputs": [],
   "source": [
    "import os\n",
    "#os.environ[\"OPENAI_API_KEY\"]=\"\"\n",
    "os.environ[\"OPENAI_API_KEY\"]=\"enter-the-api-key\" "
   ]
  },
  {
   "cell_type": "markdown",
   "id": "39967903-1922-46eb-98a3-4ebb55ea4af2",
   "metadata": {},
   "source": [
    "#### Setting up original document path"
   ]
  },
  {
   "cell_type": "code",
   "execution_count": 2,
   "id": "dc988f0c-6e14-4406-9171-b7de60181d33",
   "metadata": {},
   "outputs": [],
   "source": [
    "f_path=r\"C:\\Users\\NEELAM SUSHMITHA\\OneDrive\\Documents\\RAMANASOFT INTERNSHIP\\alice-in-wonderland.pdf\""
   ]
  },
  {
   "cell_type": "code",
   "execution_count": 3,
   "id": "fc72e91a-34c0-438a-b0f3-e5ccf4fa90f1",
   "metadata": {},
   "outputs": [],
   "source": [
    "from llama_index.core import SimpleDirectoryReader\n",
    "reader=SimpleDirectoryReader(input_files=[f_path])"
   ]
  },
  {
   "cell_type": "markdown",
   "id": "e2e435fd-7c7f-409f-ac65-3d4947ef9253",
   "metadata": {},
   "source": [
    "#### loading documents "
   ]
  },
  {
   "cell_type": "code",
   "execution_count": 4,
   "id": "5b7b0e69-cd95-4c38-abf7-6df0b9e65f29",
   "metadata": {},
   "outputs": [],
   "source": [
    "pdf_documents = reader.load_data()"
   ]
  },
  {
   "cell_type": "markdown",
   "id": "3dd08444-f3eb-4391-bc23-b2ffd133dd89",
   "metadata": {},
   "source": [
    "#### setting up index"
   ]
  },
  {
   "cell_type": "code",
   "execution_count": 5,
   "id": "37c91989-b617-45d2-861d-e91fbcaa1eae",
   "metadata": {},
   "outputs": [],
   "source": [
    "from llama_index.core import VectorStoreIndex"
   ]
  },
  {
   "cell_type": "code",
   "execution_count": 6,
   "id": "0c35fc26-84f0-41cf-94d6-97c5db52ffb7",
   "metadata": {},
   "outputs": [],
   "source": [
    "index = VectorStoreIndex.from_documents(pdf_documents)"
   ]
  },
  {
   "cell_type": "markdown",
   "id": "e92db6b8-e772-4306-836f-2d7296bc299b",
   "metadata": {},
   "source": [
    "#### setting up query engine"
   ]
  },
  {
   "cell_type": "code",
   "execution_count": 7,
   "id": "9f695ffe-592e-4d8e-83c7-98be033ec06c",
   "metadata": {},
   "outputs": [],
   "source": [
    "query_engine = index.as_query_engine()"
   ]
  },
  {
   "cell_type": "markdown",
   "id": "b7656d72-2dbe-4110-b8ce-a569bf413f70",
   "metadata": {},
   "source": [
    "#### asking question"
   ]
  },
  {
   "cell_type": "code",
   "execution_count": 8,
   "id": "0e57f589-c22a-485d-9546-7c8655cf0e5f",
   "metadata": {},
   "outputs": [
    {
     "name": "stdout",
     "output_type": "stream",
     "text": [
      "Alice went to Wonderland.\n"
     ]
    }
   ],
   "source": [
    "response = query_engine.query(\"where did alice go?\")\n",
    "print(response)"
   ]
  },
  {
   "cell_type": "code",
   "execution_count": 9,
   "id": "d7109b5a-fd02-4345-b922-ccceac71b999",
   "metadata": {},
   "outputs": [
    {
     "name": "stdout",
     "output_type": "stream",
     "text": [
      "Alice explored Wonderland, encountering various fantastical creatures and experiencing a series of peculiar events during her adventures.\n"
     ]
    }
   ],
   "source": [
    "response = query_engine.query(\"what are the things Alice explored?\")\n",
    "print(response)"
   ]
  },
  {
   "cell_type": "code",
   "execution_count": 10,
   "id": "db2b86f3-f94b-4287-852a-3e8e9c54fd50",
   "metadata": {},
   "outputs": [
    {
     "name": "stdout",
     "output_type": "stream",
     "text": [
      "Alice returned by retracing her steps back the way she came.\n"
     ]
    }
   ],
   "source": [
    "response = query_engine.query(\"how did Alice returned\")\n",
    "print(response)"
   ]
  },
  {
   "cell_type": "code",
   "execution_count": 11,
   "id": "fb26d786-ee41-472f-ae4d-80e5471f3d89",
   "metadata": {},
   "outputs": [
    {
     "name": "stdout",
     "output_type": "stream",
     "text": [
      "Alice saw a White Rabbit with a pocket-watch, a bottle labeled \"Drink Me\" that made her shrink, a cake labeled \"Eat Me\" that made her grow, a Cheshire Cat that could disappear and reappear, a caterpillar smoking a hookah, and a tea party with a Mad Hatter and a March Hare.\n"
     ]
    }
   ],
   "source": [
    "response = query_engine.query(\"What strange things did Alice see in Wonderland?\")\n",
    "print(response)"
   ]
  },
  {
   "cell_type": "code",
   "execution_count": 12,
   "id": "3dc5621d-898b-4658-b72b-2ea76b3efc5d",
   "metadata": {},
   "outputs": [
    {
     "name": "stdout",
     "output_type": "stream",
     "text": [
      "Alice felt a mix of curiosity and confusion when she realized she was shrinking or growing.\n"
     ]
    }
   ],
   "source": [
    "response = query_engine.query(\"How did Alice feel when she realized she was shrinking or growing?\")\n",
    "print(response)"
   ]
  },
  {
   "cell_type": "code",
   "execution_count": 13,
   "id": "eed247c7-4851-4be5-a55f-0b7a2ced4d33",
   "metadata": {},
   "outputs": [
    {
     "name": "stdout",
     "output_type": "stream",
     "text": [
      "Alice escaped Wonderland by waking up from her dream.\n"
     ]
    }
   ],
   "source": [
    "response = query_engine.query(\"How did Alice escape Wonderland?\")\n",
    "print(response)"
   ]
  },
  {
   "cell_type": "code",
   "execution_count": 14,
   "id": "627f05a0-1f4b-4e39-8cfd-c65e98615bc0",
   "metadata": {},
   "outputs": [
    {
     "name": "stdout",
     "output_type": "stream",
     "text": [
      "Alice learned valuable lessons about curiosity, courage, and adaptability from her adventure.\n"
     ]
    }
   ],
   "source": [
    "response = query_engine.query(\"What did Alice learn from her adventure? \")\n",
    "print(response)"
   ]
  },
  {
   "cell_type": "code",
   "execution_count": 16,
   "id": "75007a79-ba49-478f-8d8b-5fa156e54c04",
   "metadata": {},
   "outputs": [
    {
     "name": "stdout",
     "output_type": "stream",
     "text": [
      "The story is about a young girl named Alice who falls down a rabbit hole into a fantastical world. She encounters various peculiar characters and has surreal adventures. Alice navigates through a series of nonsensical events and meets creatures like the Cheshire Cat and the Mad Hatter. The story is filled with whimsical and absurd situations that challenge Alice's understanding of reality. Ultimately, Alice wakes up to realize it was all a dream.\n"
     ]
    }
   ],
   "source": [
    "response = query_engine.query(\"can u summarize the story in 5 lines?\")\n",
    "print(response)"
   ]
  },
  {
   "cell_type": "code",
   "execution_count": null,
   "id": "716704d7-ff63-4b0d-977f-ebfd75aef408",
   "metadata": {},
   "outputs": [],
   "source": []
  }
 ],
 "metadata": {
  "kernelspec": {
   "display_name": "Python 3 (ipykernel)",
   "language": "python",
   "name": "python3"
  },
  "language_info": {
   "codemirror_mode": {
    "name": "ipython",
    "version": 3
   },
   "file_extension": ".py",
   "mimetype": "text/x-python",
   "name": "python",
   "nbconvert_exporter": "python",
   "pygments_lexer": "ipython3",
   "version": "3.12.4"
  }
 },
 "nbformat": 4,
 "nbformat_minor": 5
}
